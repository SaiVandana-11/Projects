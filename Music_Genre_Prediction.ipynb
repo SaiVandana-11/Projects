{
 "cells": [
  {
   "cell_type": "code",
   "execution_count": 2,
   "metadata": {},
   "outputs": [],
   "source": [
    "import pandas as pd\n",
    "import numpy as np\n",
    "from scipy import stats\n",
    "from sklearn.impute import KNNImputer\n",
    "from sklearn.preprocessing import StandardScaler, PolynomialFeatures\n",
    "from sklearn.model_selection import train_test_split\n",
    "from sklearn.linear_model import LinearRegression, LogisticRegression\n",
    "from sklearn import svm\n",
    "from sklearn.ensemble import RandomForestClassifier\n",
    "from sklearn.metrics import mean_squared_error, r2_score, accuracy_score, confusion_matrix\n",
    "import matplotlib.pyplot as plt\n",
    "import seaborn as sns"
   ]
  },
  {
   "cell_type": "code",
   "execution_count": 104,
   "metadata": {},
   "outputs": [
    {
     "data": {
      "text/html": [
       "<div>\n",
       "<style scoped>\n",
       "    .dataframe tbody tr th:only-of-type {\n",
       "        vertical-align: middle;\n",
       "    }\n",
       "\n",
       "    .dataframe tbody tr th {\n",
       "        vertical-align: top;\n",
       "    }\n",
       "\n",
       "    .dataframe thead th {\n",
       "        text-align: right;\n",
       "    }\n",
       "</style>\n",
       "<table border=\"1\" class=\"dataframe\">\n",
       "  <thead>\n",
       "    <tr style=\"text-align: right;\">\n",
       "      <th></th>\n",
       "      <th>Tempo (BPM)</th>\n",
       "      <th>Spectral Centroid (Hz)</th>\n",
       "      <th>MFCC1</th>\n",
       "      <th>Chroma</th>\n",
       "      <th>Loudness (dB)</th>\n",
       "      <th>Spectral Bandwidth (Hz)</th>\n",
       "      <th>Genre</th>\n",
       "      <th>Tempo*Centroid</th>\n",
       "      <th>Tempo^2</th>\n",
       "      <th>Unknown Measure</th>\n",
       "    </tr>\n",
       "  </thead>\n",
       "  <tbody>\n",
       "    <tr>\n",
       "      <th>0</th>\n",
       "      <td>143</td>\n",
       "      <td>2438.233095</td>\n",
       "      <td>-19.304930</td>\n",
       "      <td>F Major</td>\n",
       "      <td>-10.790311</td>\n",
       "      <td>1367.269378</td>\n",
       "      <td>Hip-Hop</td>\n",
       "      <td>351105.565645</td>\n",
       "      <td>20736</td>\n",
       "      <td>115.2</td>\n",
       "    </tr>\n",
       "    <tr>\n",
       "      <th>1</th>\n",
       "      <td>147</td>\n",
       "      <td>3859.667710</td>\n",
       "      <td>29.878508</td>\n",
       "      <td>D Minor</td>\n",
       "      <td>-8.758926</td>\n",
       "      <td>1743.684275</td>\n",
       "      <td>Hip-Hop</td>\n",
       "      <td>586669.491867</td>\n",
       "      <td>23104</td>\n",
       "      <td>121.6</td>\n",
       "    </tr>\n",
       "    <tr>\n",
       "      <th>2</th>\n",
       "      <td>106</td>\n",
       "      <td>2997.642139</td>\n",
       "      <td>49.616509</td>\n",
       "      <td>A Minor</td>\n",
       "      <td>-23.138455</td>\n",
       "      <td>1293.743312</td>\n",
       "      <td>Hip-Hop</td>\n",
       "      <td>332738.277483</td>\n",
       "      <td>12321</td>\n",
       "      <td>88.8</td>\n",
       "    </tr>\n",
       "    <tr>\n",
       "      <th>3</th>\n",
       "      <td>124</td>\n",
       "      <td>2970.982600</td>\n",
       "      <td>-39.850994</td>\n",
       "      <td>A Major</td>\n",
       "      <td>-10.509433</td>\n",
       "      <td>1082.924793</td>\n",
       "      <td>Hip-Hop</td>\n",
       "      <td>365430.859808</td>\n",
       "      <td>15129</td>\n",
       "      <td>98.4</td>\n",
       "    </tr>\n",
       "    <tr>\n",
       "      <th>4</th>\n",
       "      <td>116</td>\n",
       "      <td>2756.660017</td>\n",
       "      <td>12.314632</td>\n",
       "      <td>B Minor</td>\n",
       "      <td>-5.763737</td>\n",
       "      <td>2331.115735</td>\n",
       "      <td>Hip-Hop</td>\n",
       "      <td>325285.882012</td>\n",
       "      <td>13924</td>\n",
       "      <td>94.4</td>\n",
       "    </tr>\n",
       "  </tbody>\n",
       "</table>\n",
       "</div>"
      ],
      "text/plain": [
       "   Tempo (BPM)  Spectral Centroid (Hz)      MFCC1   Chroma  Loudness (dB)  \\\n",
       "0          143             2438.233095 -19.304930  F Major     -10.790311   \n",
       "1          147             3859.667710  29.878508  D Minor      -8.758926   \n",
       "2          106             2997.642139  49.616509  A Minor     -23.138455   \n",
       "3          124             2970.982600 -39.850994  A Major     -10.509433   \n",
       "4          116             2756.660017  12.314632  B Minor      -5.763737   \n",
       "\n",
       "   Spectral Bandwidth (Hz)    Genre  Tempo*Centroid  Tempo^2  Unknown Measure  \n",
       "0              1367.269378  Hip-Hop   351105.565645    20736            115.2  \n",
       "1              1743.684275  Hip-Hop   586669.491867    23104            121.6  \n",
       "2              1293.743312  Hip-Hop   332738.277483    12321             88.8  \n",
       "3              1082.924793  Hip-Hop   365430.859808    15129             98.4  \n",
       "4              2331.115735  Hip-Hop   325285.882012    13924             94.4  "
      ]
     },
     "execution_count": 104,
     "metadata": {},
     "output_type": "execute_result"
    }
   ],
   "source": [
    "# Import dataset\n",
    "musc_df = pd.read_csv(\"Cleaned_Music_Dataset.csv\")\n",
    "musc_df.head()"
   ]
  },
  {
   "cell_type": "code",
   "execution_count": 105,
   "metadata": {},
   "outputs": [
    {
     "name": "stdout",
     "output_type": "stream",
     "text": [
      "Null values:\n",
      "Tempo (BPM)                0\n",
      "Spectral Centroid (Hz)     0\n",
      "MFCC1                      0\n",
      "Chroma                     1\n",
      "Loudness (dB)              0\n",
      "Spectral Bandwidth (Hz)    1\n",
      "Genre                      0\n",
      "Tempo*Centroid             0\n",
      "Tempo^2                    0\n",
      "Unknown Measure            0\n",
      "dtype: int64\n"
     ]
    }
   ],
   "source": [
    "# Checking for null values\n",
    "print(\"Null values:\")\n",
    "print(musc_df.isnull().sum())"
   ]
  },
  {
   "cell_type": "code",
   "execution_count": 106,
   "metadata": {},
   "outputs": [
    {
     "data": {
      "text/html": [
       "<div>\n",
       "<style scoped>\n",
       "    .dataframe tbody tr th:only-of-type {\n",
       "        vertical-align: middle;\n",
       "    }\n",
       "\n",
       "    .dataframe tbody tr th {\n",
       "        vertical-align: top;\n",
       "    }\n",
       "\n",
       "    .dataframe thead th {\n",
       "        text-align: right;\n",
       "    }\n",
       "</style>\n",
       "<table border=\"1\" class=\"dataframe\">\n",
       "  <thead>\n",
       "    <tr style=\"text-align: right;\">\n",
       "      <th></th>\n",
       "      <th>Tempo (BPM)</th>\n",
       "      <th>Spectral Centroid (Hz)</th>\n",
       "      <th>MFCC1</th>\n",
       "      <th>Loudness (dB)</th>\n",
       "      <th>Spectral Bandwidth (Hz)</th>\n",
       "      <th>Tempo*Centroid</th>\n",
       "      <th>Tempo^2</th>\n",
       "      <th>Unknown Measure</th>\n",
       "    </tr>\n",
       "  </thead>\n",
       "  <tbody>\n",
       "    <tr>\n",
       "      <th>count</th>\n",
       "      <td>1000.000000</td>\n",
       "      <td>1000.000000</td>\n",
       "      <td>1000.000000</td>\n",
       "      <td>1000.000000</td>\n",
       "      <td>999.000000</td>\n",
       "      <td>1000.000000</td>\n",
       "      <td>1000.000000</td>\n",
       "      <td>1000.000000</td>\n",
       "    </tr>\n",
       "    <tr>\n",
       "      <th>mean</th>\n",
       "      <td>130.205000</td>\n",
       "      <td>3008.811942</td>\n",
       "      <td>0.759714</td>\n",
       "      <td>-17.607395</td>\n",
       "      <td>1677.492541</td>\n",
       "      <td>391550.709665</td>\n",
       "      <td>17260.828000</td>\n",
       "      <td>104.172800</td>\n",
       "    </tr>\n",
       "    <tr>\n",
       "      <th>std</th>\n",
       "      <td>17.460293</td>\n",
       "      <td>557.413132</td>\n",
       "      <td>29.192150</td>\n",
       "      <td>7.125087</td>\n",
       "      <td>492.397448</td>\n",
       "      <td>89130.141355</td>\n",
       "      <td>4542.394517</td>\n",
       "      <td>13.969711</td>\n",
       "    </tr>\n",
       "    <tr>\n",
       "      <th>min</th>\n",
       "      <td>100.000000</td>\n",
       "      <td>2002.003986</td>\n",
       "      <td>-49.922768</td>\n",
       "      <td>-29.936016</td>\n",
       "      <td>801.017463</td>\n",
       "      <td>201097.273310</td>\n",
       "      <td>10000.000000</td>\n",
       "      <td>80.000000</td>\n",
       "    </tr>\n",
       "    <tr>\n",
       "      <th>25%</th>\n",
       "      <td>116.000000</td>\n",
       "      <td>2541.081883</td>\n",
       "      <td>-25.379989</td>\n",
       "      <td>-23.846676</td>\n",
       "      <td>1269.333299</td>\n",
       "      <td>324717.377668</td>\n",
       "      <td>13456.000000</td>\n",
       "      <td>92.800000</td>\n",
       "    </tr>\n",
       "    <tr>\n",
       "      <th>50%</th>\n",
       "      <td>131.000000</td>\n",
       "      <td>3032.170918</td>\n",
       "      <td>1.580184</td>\n",
       "      <td>-17.872326</td>\n",
       "      <td>1679.635824</td>\n",
       "      <td>386883.101732</td>\n",
       "      <td>17161.000000</td>\n",
       "      <td>104.800000</td>\n",
       "    </tr>\n",
       "    <tr>\n",
       "      <th>75%</th>\n",
       "      <td>146.000000</td>\n",
       "      <td>3444.698852</td>\n",
       "      <td>25.413601</td>\n",
       "      <td>-11.306829</td>\n",
       "      <td>2100.100828</td>\n",
       "      <td>453761.264355</td>\n",
       "      <td>21316.000000</td>\n",
       "      <td>116.800000</td>\n",
       "    </tr>\n",
       "    <tr>\n",
       "      <th>max</th>\n",
       "      <td>159.000000</td>\n",
       "      <td>3999.331471</td>\n",
       "      <td>49.987273</td>\n",
       "      <td>-4.801267</td>\n",
       "      <td>2499.942800</td>\n",
       "      <td>626479.206149</td>\n",
       "      <td>25281.000000</td>\n",
       "      <td>127.200000</td>\n",
       "    </tr>\n",
       "  </tbody>\n",
       "</table>\n",
       "</div>"
      ],
      "text/plain": [
       "       Tempo (BPM)  Spectral Centroid (Hz)        MFCC1  Loudness (dB)  \\\n",
       "count  1000.000000             1000.000000  1000.000000    1000.000000   \n",
       "mean    130.205000             3008.811942     0.759714     -17.607395   \n",
       "std      17.460293              557.413132    29.192150       7.125087   \n",
       "min     100.000000             2002.003986   -49.922768     -29.936016   \n",
       "25%     116.000000             2541.081883   -25.379989     -23.846676   \n",
       "50%     131.000000             3032.170918     1.580184     -17.872326   \n",
       "75%     146.000000             3444.698852    25.413601     -11.306829   \n",
       "max     159.000000             3999.331471    49.987273      -4.801267   \n",
       "\n",
       "       Spectral Bandwidth (Hz)  Tempo*Centroid       Tempo^2  Unknown Measure  \n",
       "count               999.000000     1000.000000   1000.000000      1000.000000  \n",
       "mean               1677.492541   391550.709665  17260.828000       104.172800  \n",
       "std                 492.397448    89130.141355   4542.394517        13.969711  \n",
       "min                 801.017463   201097.273310  10000.000000        80.000000  \n",
       "25%                1269.333299   324717.377668  13456.000000        92.800000  \n",
       "50%                1679.635824   386883.101732  17161.000000       104.800000  \n",
       "75%                2100.100828   453761.264355  21316.000000       116.800000  \n",
       "max                2499.942800   626479.206149  25281.000000       127.200000  "
      ]
     },
     "execution_count": 106,
     "metadata": {},
     "output_type": "execute_result"
    }
   ],
   "source": [
    "# Description of numberical columns\n",
    "musc_df.describe()"
   ]
  },
  {
   "cell_type": "code",
   "execution_count": 107,
   "metadata": {},
   "outputs": [
    {
     "name": "stdout",
     "output_type": "stream",
     "text": [
      "<class 'pandas.core.frame.DataFrame'>\n",
      "RangeIndex: 1000 entries, 0 to 999\n",
      "Data columns (total 10 columns):\n",
      " #   Column                   Non-Null Count  Dtype  \n",
      "---  ------                   --------------  -----  \n",
      " 0   Tempo (BPM)              1000 non-null   int64  \n",
      " 1   Spectral Centroid (Hz)   1000 non-null   float64\n",
      " 2   MFCC1                    1000 non-null   float64\n",
      " 3   Chroma                   999 non-null    object \n",
      " 4   Loudness (dB)            1000 non-null   float64\n",
      " 5   Spectral Bandwidth (Hz)  999 non-null    float64\n",
      " 6   Genre                    1000 non-null   object \n",
      " 7   Tempo*Centroid           1000 non-null   float64\n",
      " 8   Tempo^2                  1000 non-null   int64  \n",
      " 9   Unknown Measure          1000 non-null   float64\n",
      "dtypes: float64(6), int64(2), object(2)\n",
      "memory usage: 78.3+ KB\n"
     ]
    }
   ],
   "source": [
    "musc_df.info()"
   ]
  },
  {
   "cell_type": "code",
   "execution_count": 108,
   "metadata": {},
   "outputs": [
    {
     "name": "stdout",
     "output_type": "stream",
     "text": [
      "Genres: ['Hip-Hop' 'Country' 'Pop' 'Blues' 'Classical' 'Electronic' 'Metal' 'Jazz'\n",
      " 'Rock' 'Reggae']\n"
     ]
    },
    {
     "ename": "KeyError",
     "evalue": "'Chroma (Key + Mode)'",
     "output_type": "error",
     "traceback": [
      "\u001b[0;31m---------------------------------------------------------------------------\u001b[0m",
      "\u001b[0;31mKeyError\u001b[0m                                  Traceback (most recent call last)",
      "File \u001b[0;32m/opt/anaconda3/lib/python3.12/site-packages/pandas/core/indexes/base.py:3805\u001b[0m, in \u001b[0;36mIndex.get_loc\u001b[0;34m(self, key)\u001b[0m\n\u001b[1;32m   3804\u001b[0m \u001b[38;5;28;01mtry\u001b[39;00m:\n\u001b[0;32m-> 3805\u001b[0m     \u001b[38;5;28;01mreturn\u001b[39;00m \u001b[38;5;28mself\u001b[39m\u001b[38;5;241m.\u001b[39m_engine\u001b[38;5;241m.\u001b[39mget_loc(casted_key)\n\u001b[1;32m   3806\u001b[0m \u001b[38;5;28;01mexcept\u001b[39;00m \u001b[38;5;167;01mKeyError\u001b[39;00m \u001b[38;5;28;01mas\u001b[39;00m err:\n",
      "File \u001b[0;32mindex.pyx:167\u001b[0m, in \u001b[0;36mpandas._libs.index.IndexEngine.get_loc\u001b[0;34m()\u001b[0m\n",
      "File \u001b[0;32mindex.pyx:196\u001b[0m, in \u001b[0;36mpandas._libs.index.IndexEngine.get_loc\u001b[0;34m()\u001b[0m\n",
      "File \u001b[0;32mpandas/_libs/hashtable_class_helper.pxi:7081\u001b[0m, in \u001b[0;36mpandas._libs.hashtable.PyObjectHashTable.get_item\u001b[0;34m()\u001b[0m\n",
      "File \u001b[0;32mpandas/_libs/hashtable_class_helper.pxi:7089\u001b[0m, in \u001b[0;36mpandas._libs.hashtable.PyObjectHashTable.get_item\u001b[0;34m()\u001b[0m\n",
      "\u001b[0;31mKeyError\u001b[0m: 'Chroma (Key + Mode)'",
      "\nThe above exception was the direct cause of the following exception:\n",
      "\u001b[0;31mKeyError\u001b[0m                                  Traceback (most recent call last)",
      "Cell \u001b[0;32mIn[108], line 3\u001b[0m\n\u001b[1;32m      1\u001b[0m \u001b[38;5;66;03m# Values in the categorical columns\u001b[39;00m\n\u001b[1;32m      2\u001b[0m \u001b[38;5;28mprint\u001b[39m(\u001b[38;5;124mf\u001b[39m\u001b[38;5;124m\"\u001b[39m\u001b[38;5;124mGenres: \u001b[39m\u001b[38;5;132;01m{\u001b[39;00mmusc_df[\u001b[38;5;124m\"\u001b[39m\u001b[38;5;124mGenre\u001b[39m\u001b[38;5;124m\"\u001b[39m]\u001b[38;5;241m.\u001b[39munique()\u001b[38;5;132;01m}\u001b[39;00m\u001b[38;5;124m\"\u001b[39m)\n\u001b[0;32m----> 3\u001b[0m \u001b[38;5;28mprint\u001b[39m(\u001b[38;5;124mf\u001b[39m\u001b[38;5;124m\"\u001b[39m\u001b[38;5;124mKeys: \u001b[39m\u001b[38;5;132;01m{\u001b[39;00mmusc_df[\u001b[38;5;124m\"\u001b[39m\u001b[38;5;124mChroma (Key + Mode)\u001b[39m\u001b[38;5;124m\"\u001b[39m]\u001b[38;5;241m.\u001b[39munique()\u001b[38;5;132;01m}\u001b[39;00m\u001b[38;5;124m\"\u001b[39m)\n\u001b[1;32m      5\u001b[0m musc_df\u001b[38;5;241m.\u001b[39mcolumns \u001b[38;5;241m=\u001b[39m musc_df\u001b[38;5;241m.\u001b[39mcolumns\u001b[38;5;241m.\u001b[39mstr\u001b[38;5;241m.\u001b[39mstrip()\n",
      "File \u001b[0;32m/opt/anaconda3/lib/python3.12/site-packages/pandas/core/frame.py:4102\u001b[0m, in \u001b[0;36mDataFrame.__getitem__\u001b[0;34m(self, key)\u001b[0m\n\u001b[1;32m   4100\u001b[0m \u001b[38;5;28;01mif\u001b[39;00m \u001b[38;5;28mself\u001b[39m\u001b[38;5;241m.\u001b[39mcolumns\u001b[38;5;241m.\u001b[39mnlevels \u001b[38;5;241m>\u001b[39m \u001b[38;5;241m1\u001b[39m:\n\u001b[1;32m   4101\u001b[0m     \u001b[38;5;28;01mreturn\u001b[39;00m \u001b[38;5;28mself\u001b[39m\u001b[38;5;241m.\u001b[39m_getitem_multilevel(key)\n\u001b[0;32m-> 4102\u001b[0m indexer \u001b[38;5;241m=\u001b[39m \u001b[38;5;28mself\u001b[39m\u001b[38;5;241m.\u001b[39mcolumns\u001b[38;5;241m.\u001b[39mget_loc(key)\n\u001b[1;32m   4103\u001b[0m \u001b[38;5;28;01mif\u001b[39;00m is_integer(indexer):\n\u001b[1;32m   4104\u001b[0m     indexer \u001b[38;5;241m=\u001b[39m [indexer]\n",
      "File \u001b[0;32m/opt/anaconda3/lib/python3.12/site-packages/pandas/core/indexes/base.py:3812\u001b[0m, in \u001b[0;36mIndex.get_loc\u001b[0;34m(self, key)\u001b[0m\n\u001b[1;32m   3807\u001b[0m     \u001b[38;5;28;01mif\u001b[39;00m \u001b[38;5;28misinstance\u001b[39m(casted_key, \u001b[38;5;28mslice\u001b[39m) \u001b[38;5;129;01mor\u001b[39;00m (\n\u001b[1;32m   3808\u001b[0m         \u001b[38;5;28misinstance\u001b[39m(casted_key, abc\u001b[38;5;241m.\u001b[39mIterable)\n\u001b[1;32m   3809\u001b[0m         \u001b[38;5;129;01mand\u001b[39;00m \u001b[38;5;28many\u001b[39m(\u001b[38;5;28misinstance\u001b[39m(x, \u001b[38;5;28mslice\u001b[39m) \u001b[38;5;28;01mfor\u001b[39;00m x \u001b[38;5;129;01min\u001b[39;00m casted_key)\n\u001b[1;32m   3810\u001b[0m     ):\n\u001b[1;32m   3811\u001b[0m         \u001b[38;5;28;01mraise\u001b[39;00m InvalidIndexError(key)\n\u001b[0;32m-> 3812\u001b[0m     \u001b[38;5;28;01mraise\u001b[39;00m \u001b[38;5;167;01mKeyError\u001b[39;00m(key) \u001b[38;5;28;01mfrom\u001b[39;00m \u001b[38;5;21;01merr\u001b[39;00m\n\u001b[1;32m   3813\u001b[0m \u001b[38;5;28;01mexcept\u001b[39;00m \u001b[38;5;167;01mTypeError\u001b[39;00m:\n\u001b[1;32m   3814\u001b[0m     \u001b[38;5;66;03m# If we have a listlike key, _check_indexing_error will raise\u001b[39;00m\n\u001b[1;32m   3815\u001b[0m     \u001b[38;5;66;03m#  InvalidIndexError. Otherwise we fall through and re-raise\u001b[39;00m\n\u001b[1;32m   3816\u001b[0m     \u001b[38;5;66;03m#  the TypeError.\u001b[39;00m\n\u001b[1;32m   3817\u001b[0m     \u001b[38;5;28mself\u001b[39m\u001b[38;5;241m.\u001b[39m_check_indexing_error(key)\n",
      "\u001b[0;31mKeyError\u001b[0m: 'Chroma (Key + Mode)'"
     ]
    }
   ],
   "source": [
    "# Values in the categorical columns\n",
    "print(f\"Genres: {musc_df[\"Genre\"].unique()}\")\n",
    "print(f\"Keys: {musc_df[\"Chroma (Key + Mode)\"].unique()}\")\n",
    "\n",
    "musc_df.columns = musc_df.columns.str.strip()"
   ]
  },
  {
   "cell_type": "code",
   "execution_count": null,
   "metadata": {},
   "outputs": [
    {
     "data": {
      "image/png": "[encoded data removed]",
      "text/plain": [
       "<Figure size 1200x1000 with 4 Axes>"
      ]
     },
     "metadata": {},
     "output_type": "display_data"
    }
   ],
   "source": [
    "considered = [\"MFCC1\", \"Loudness (dB)\", \"Spectral Bandwidth (Hz)\"] #, \"Tempo * Centroid\", \"Tempo^2\", \"Unknown Measure\"]\n",
    "musc_df[considered].hist(figsize= (12,10), bins= 15, edgecolor= \"black\")\n",
    "plt.suptitle(\"Feature distributions\")\n",
    "plt.show()"
   ]
  },
  {
   "cell_type": "code",
   "execution_count": 67,
   "metadata": {},
   "outputs": [
    {
     "data": {
      "image/png": "[encoded data removed]",
      "text/plain": [
       "<Figure size 1000x800 with 2 Axes>"
      ]
     },
     "metadata": {},
     "output_type": "display_data"
    }
   ],
   "source": [
    "corr_mat = musc_df[considered].corr()\n",
    "plt.figure(figsize = (10, 8))\n",
    "sns.heatmap(corr_mat, annot = True, cmap = \"coolwarm\", fmt = \".2f\")\n",
    "plt.title(\"Correlation Matrix\")\n",
    "plt.show()"
   ]
  },
  {
   "cell_type": "code",
   "execution_count": 69,
   "metadata": {},
   "outputs": [
    {
     "name": "stdout",
     "output_type": "stream",
     "text": [
      "Estimated formula: y = 0.800x + 0.013\n"
     ]
    }
   ],
   "source": [
    "data = musc_df.dropna(subset = [\"Tempo (BPM)\", \"Highly Correlated\"])\n",
    "\n",
    "mod = LinearRegression()\n",
    "\n",
    "mod.fit(data[[\"Tempo (BPM)\"]], data[\"Highly Correlated\"])\n",
    "\n",
    "slope = mod.coef_[0]\n",
    "intercept = mod.intercept_\n",
    "\n",
    "print(f\"Estimated formula: y = {slope:.3f}x + {intercept:.3f}\")"
   ]
  },
  {
   "cell_type": "code",
   "execution_count": 74,
   "metadata": {},
   "outputs": [],
   "source": [
    "# Calculating Tempo from Unknown measure\n",
    "#musc_df.loc[musc_df[\"Tempo (BPM)\"].isnull(), \"Tempo (BPM)\"] = (musc_df[\"Highly Correlated\"] - 0.036) / 0.8"
   ]
  },
  {
   "cell_type": "code",
   "execution_count": 75,
   "metadata": {},
   "outputs": [],
   "source": [
    "# Filling empty Tempo values from Tempo^2 column\n",
    "musc_df.loc[musc_df[\"Tempo (BPM)\"].isnull(), \"Tempo (BPM)\"] = np.sqrt(musc_df[\"Tempo^2\"])"
   ]
  },
  {
   "cell_type": "code",
   "execution_count": null,
   "metadata": {},
   "outputs": [],
   "source": [
    "# Filling empty Tempo^2 values from Tempo column\n",
    "musc_df.loc[musc_df[\"Tempo^2\"].isnull(), \"Tempo^2\"] = np.square(musc_df[\"Tempo (BPM)\"])"
   ]
  },
  {
   "cell_type": "code",
   "execution_count": 76,
   "metadata": {},
   "outputs": [],
   "source": [
    "# Filling emplty pectral centroid values\n",
    "musc_df.loc[musc_df[\"Spectral Centroid (Hz)\"].isnull(), \"Spectral Centroid (Hz)\"] = musc_df['Tempo * Centroid'] / musc_df['Tempo (BPM)']"
   ]
  },
  {
   "cell_type": "code",
   "execution_count": 77,
   "metadata": {},
   "outputs": [
    {
     "name": "stdout",
     "output_type": "stream",
     "text": [
      "Tempo (BPM)                3\n",
      "Spectral Centroid (Hz)     0\n",
      "MFCC1                      3\n",
      "Chroma (Key + Mode)        0\n",
      "Loudness (dB)              0\n",
      "Spectral Bandwidth (Hz)    3\n",
      "Genre                      0\n",
      "Tempo * Centroid           0\n",
      "Tempo^2                    0\n",
      "Highly Correlated          0\n",
      "dtype: int64\n"
     ]
    }
   ],
   "source": [
    "# Checking for outliers\n",
    "z = np.abs(stats.zscore(musc_df[[\"MFCC1\", \"Loudness (dB)\", \"Spectral Bandwidth (Hz)\", \"Tempo (BPM)\"]]))\n",
    "outls = musc_df[z > 3]\n",
    "print(outls.count())"
   ]
  },
  {
   "cell_type": "code",
   "execution_count": 359,
   "metadata": {},
   "outputs": [],
   "source": [
    "musc_df = musc_df.dropna(subset = [\"Spectral Centroid (Hz)\"])"
   ]
  },
  {
   "cell_type": "code",
   "execution_count": 78,
   "metadata": {},
   "outputs": [
    {
     "name": "stdout",
     "output_type": "stream",
     "text": [
      "Null values:\n",
      "Tempo (BPM)                0\n",
      "Spectral Centroid (Hz)     0\n",
      "MFCC1                      0\n",
      "Chroma (Key + Mode)        0\n",
      "Loudness (dB)              0\n",
      "Spectral Bandwidth (Hz)    0\n",
      "Genre                      0\n",
      "Tempo * Centroid           0\n",
      "Tempo^2                    0\n",
      "Highly Correlated          0\n",
      "dtype: int64\n"
     ]
    }
   ],
   "source": [
    "# Checking for null values again\n",
    "print(\"Null values:\")\n",
    "print(musc_df.isnull().sum())"
   ]
  },
  {
   "cell_type": "code",
   "execution_count": 79,
   "metadata": {},
   "outputs": [],
   "source": [
    "# Creating new features\n",
    "musc_df[\"Tempo * Loudness\"] = musc_df[\"Tempo (BPM)\"] * musc_df[\"Loudness (dB)\"]"
   ]
  },
  {
   "cell_type": "code",
   "execution_count": 80,
   "metadata": {},
   "outputs": [],
   "source": [
    "musc_df[\"Centroid * Bandwidth\"] = musc_df[\"Spectral Centroid (Hz)\"] * musc_df[\"Spectral Bandwidth (Hz)\"]"
   ]
  },
  {
   "cell_type": "code",
   "execution_count": 81,
   "metadata": {},
   "outputs": [],
   "source": [
    "# One hot encoding of Keys\n",
    "musc_df = pd.get_dummies(musc_df, columns=[\"Chroma (Key + Mode)\"], drop_first=True)\n",
    "musc_df = pd.get_dummies(musc_df, columns=[\"Genre\"], drop_first=True)"
   ]
  },
  {
   "cell_type": "code",
   "execution_count": 82,
   "metadata": {},
   "outputs": [],
   "source": [
    "# Collection of all the encoded columns\n",
    "key = [col for col in musc_df.columns if \"Chroma\" in col]\n",
    "genre = [col for col in musc_df.columns if \"Genre\" in col]\n"
   ]
  },
  {
   "cell_type": "code",
   "execution_count": 83,
   "metadata": {},
   "outputs": [],
   "source": [
    "# Split of the independent variables and the dependent variables\n",
    "X = musc_df[[\"MFCC1\", \"Loudness (dB)\", \"Spectral Bandwidth (Hz)\", \"Tempo * Centroid\", \"Tempo^2\", \"Highly Correlated\", \"Tempo * Loudness\", \"Centroid * Bandwidth\", \"Spectral Centroid (Hz)\", \"Tempo (BPM)\"] + key] \n",
    "Y = musc_df[genre]"
   ]
  },
  {
   "cell_type": "code",
   "execution_count": 84,
   "metadata": {},
   "outputs": [],
   "source": [
    "# Convert encoded data into one column again\n",
    "Y = np.argmax(musc_df[genre].values, axis = 1)\n"
   ]
  },
  {
   "cell_type": "code",
   "execution_count": 85,
   "metadata": {},
   "outputs": [],
   "source": [
    "# Train and test split\n",
    "X_train, X_mid, Y_train, Y_mid = train_test_split(X, Y, test_size = 0.4, random_state = 963)\n",
    "X_valid, X_test, Y_valid, Y_test = train_test_split(X_mid, Y_mid, test_size = 0.5, random_state = 963)"
   ]
  },
  {
   "cell_type": "code",
   "execution_count": 86,
   "metadata": {},
   "outputs": [],
   "source": [
    "# Normalisation using standardisation (using mean and standard deviation)\n",
    "scaler = StandardScaler()\n",
    "\n",
    "X_train = scaler.fit_transform(X_train)\n",
    "X_valid = scaler.transform(X_valid)\n",
    "X_test = scaler.transform(X_test)"
   ]
  },
  {
   "cell_type": "code",
   "execution_count": 87,
   "metadata": {},
   "outputs": [
    {
     "data": {
      "text/html": [
       "<style>#sk-container-id-4 {\n",
       "  /* Definition of color scheme common for light and dark mode */\n",
       "  --sklearn-color-text: black;\n",
       "  --sklearn-color-line: gray;\n",
       "  /* Definition of color scheme for unfitted estimators */\n",
       "  --sklearn-color-unfitted-level-0: #fff5e6;\n",
       "  --sklearn-color-unfitted-level-1: #f6e4d2;\n",
       "  --sklearn-color-unfitted-level-2: #ffe0b3;\n",
       "  --sklearn-color-unfitted-level-3: chocolate;\n",
       "  /* Definition of color scheme for fitted estimators */\n",
       "  --sklearn-color-fitted-level-0: #f0f8ff;\n",
       "  --sklearn-color-fitted-level-1: #d4ebff;\n",
       "  --sklearn-color-fitted-level-2: #b3dbfd;\n",
       "  --sklearn-color-fitted-level-3: cornflowerblue;\n",
       "\n",
       "  /* Specific color for light theme */\n",
       "  --sklearn-color-text-on-default-background: var(--sg-text-color, var(--theme-code-foreground, var(--jp-content-font-color1, black)));\n",
       "  --sklearn-color-background: var(--sg-background-color, var(--theme-background, var(--jp-layout-color0, white)));\n",
       "  --sklearn-color-border-box: var(--sg-text-color, var(--theme-code-foreground, var(--jp-content-font-color1, black)));\n",
       "  --sklearn-color-icon: #696969;\n",
       "\n",
       "  @media (prefers-color-scheme: dark) {\n",
       "    /* Redefinition of color scheme for dark theme */\n",
       "    --sklearn-color-text-on-default-background: var(--sg-text-color, var(--theme-code-foreground, var(--jp-content-font-color1, white)));\n",
       "    --sklearn-color-background: var(--sg-background-color, var(--theme-background, var(--jp-layout-color0, #111)));\n",
       "    --sklearn-color-border-box: var(--sg-text-color, var(--theme-code-foreground, var(--jp-content-font-color1, white)));\n",
       "    --sklearn-color-icon: #878787;\n",
       "  }\n",
       "}\n",
       "\n",
       "#sk-container-id-4 {\n",
       "  color: var(--sklearn-color-text);\n",
       "}\n",
       "\n",
       "#sk-container-id-4 pre {\n",
       "  padding: 0;\n",
       "}\n",
       "\n",
       "#sk-container-id-4 input.sk-hidden--visually {\n",
       "  border: 0;\n",
       "  clip: rect(1px 1px 1px 1px);\n",
       "  clip: rect(1px, 1px, 1px, 1px);\n",
       "  height: 1px;\n",
       "  margin: -1px;\n",
       "  overflow: hidden;\n",
       "  padding: 0;\n",
       "  position: absolute;\n",
       "  width: 1px;\n",
       "}\n",
       "\n",
       "#sk-container-id-4 div.sk-dashed-wrapped {\n",
       "  border: 1px dashed var(--sklearn-color-line);\n",
       "  margin: 0 0.4em 0.5em 0.4em;\n",
       "  box-sizing: border-box;\n",
       "  padding-bottom: 0.4em;\n",
       "  background-color: var(--sklearn-color-background);\n",
       "}\n",
       "\n",
       "#sk-container-id-4 div.sk-container {\n",
       "  /* jupyter's `normalize.less` sets `[hidden] { display: none; }`\n",
       "     but bootstrap.min.css set `[hidden] { display: none !important; }`\n",
       "     so we also need the `!important` here to be able to override the\n",
       "     default hidden behavior on the sphinx rendered scikit-learn.org.\n",
       "     See: https://github.com/scikit-learn/scikit-learn/issues/21755 */\n",
       "  display: inline-block !important;\n",
       "  position: relative;\n",
       "}\n",
       "\n",
       "#sk-container-id-4 div.sk-text-repr-fallback {\n",
       "  display: none;\n",
       "}\n",
       "\n",
       "div.sk-parallel-item,\n",
       "div.sk-serial,\n",
       "div.sk-item {\n",
       "  /* draw centered vertical line to link estimators */\n",
       "  background-image: linear-gradient(var(--sklearn-color-text-on-default-background), var(--sklearn-color-text-on-default-background));\n",
       "  background-size: 2px 100%;\n",
       "  background-repeat: no-repeat;\n",
       "  background-position: center center;\n",
       "}\n",
       "\n",
       "/* Parallel-specific style estimator block */\n",
       "\n",
       "#sk-container-id-4 div.sk-parallel-item::after {\n",
       "  content: \"\";\n",
       "  width: 100%;\n",
       "  border-bottom: 2px solid var(--sklearn-color-text-on-default-background);\n",
       "  flex-grow: 1;\n",
       "}\n",
       "\n",
       "#sk-container-id-4 div.sk-parallel {\n",
       "  display: flex;\n",
       "  align-items: stretch;\n",
       "  justify-content: center;\n",
       "  background-color: var(--sklearn-color-background);\n",
       "  position: relative;\n",
       "}\n",
       "\n",
       "#sk-container-id-4 div.sk-parallel-item {\n",
       "  display: flex;\n",
       "  flex-direction: column;\n",
       "}\n",
       "\n",
       "#sk-container-id-4 div.sk-parallel-item:first-child::after {\n",
       "  align-self: flex-end;\n",
       "  width: 50%;\n",
       "}\n",
       "\n",
       "#sk-container-id-4 div.sk-parallel-item:last-child::after {\n",
       "  align-self: flex-start;\n",
       "  width: 50%;\n",
       "}\n",
       "\n",
       "#sk-container-id-4 div.sk-parallel-item:only-child::after {\n",
       "  width: 0;\n",
       "}\n",
       "\n",
       "/* Serial-specific style estimator block */\n",
       "\n",
       "#sk-container-id-4 div.sk-serial {\n",
       "  display: flex;\n",
       "  flex-direction: column;\n",
       "  align-items: center;\n",
       "  background-color: var(--sklearn-color-background);\n",
       "  padding-right: 1em;\n",
       "  padding-left: 1em;\n",
       "}\n",
       "\n",
       "\n",
       "/* Toggleable style: style used for estimator/Pipeline/ColumnTransformer box that is\n",
       "clickable and can be expanded/collapsed.\n",
       "- Pipeline and ColumnTransformer use this feature and define the default style\n",
       "- Estimators will overwrite some part of the style using the `sk-estimator` class\n",
       "*/\n",
       "\n",
       "/* Pipeline and ColumnTransformer style (default) */\n",
       "\n",
       "#sk-container-id-4 div.sk-toggleable {\n",
       "  /* Default theme specific background. It is overwritten whether we have a\n",
       "  specific estimator or a Pipeline/ColumnTransformer */\n",
       "  background-color: var(--sklearn-color-background);\n",
       "}\n",
       "\n",
       "/* Toggleable label */\n",
       "#sk-container-id-4 label.sk-toggleable__label {\n",
       "  cursor: pointer;\n",
       "  display: block;\n",
       "  width: 100%;\n",
       "  margin-bottom: 0;\n",
       "  padding: 0.5em;\n",
       "  box-sizing: border-box;\n",
       "  text-align: center;\n",
       "}\n",
       "\n",
       "#sk-container-id-4 label.sk-toggleable__label-arrow:before {\n",
       "  /* Arrow on the left of the label */\n",
       "  content: \"▸\";\n",
       "  float: left;\n",
       "  margin-right: 0.25em;\n",
       "  color: var(--sklearn-color-icon);\n",
       "}\n",
       "\n",
       "#sk-container-id-4 label.sk-toggleable__label-arrow:hover:before {\n",
       "  color: var(--sklearn-color-text);\n",
       "}\n",
       "\n",
       "/* Toggleable content - dropdown */\n",
       "\n",
       "#sk-container-id-4 div.sk-toggleable__content {\n",
       "  max-height: 0;\n",
       "  max-width: 0;\n",
       "  overflow: hidden;\n",
       "  text-align: left;\n",
       "  /* unfitted */\n",
       "  background-color: var(--sklearn-color-unfitted-level-0);\n",
       "}\n",
       "\n",
       "#sk-container-id-4 div.sk-toggleable__content.fitted {\n",
       "  /* fitted */\n",
       "  background-color: var(--sklearn-color-fitted-level-0);\n",
       "}\n",
       "\n",
       "#sk-container-id-4 div.sk-toggleable__content pre {\n",
       "  margin: 0.2em;\n",
       "  border-radius: 0.25em;\n",
       "  color: var(--sklearn-color-text);\n",
       "  /* unfitted */\n",
       "  background-color: var(--sklearn-color-unfitted-level-0);\n",
       "}\n",
       "\n",
       "#sk-container-id-4 div.sk-toggleable__content.fitted pre {\n",
       "  /* unfitted */\n",
       "  background-color: var(--sklearn-color-fitted-level-0);\n",
       "}\n",
       "\n",
       "#sk-container-id-4 input.sk-toggleable__control:checked~div.sk-toggleable__content {\n",
       "  /* Expand drop-down */\n",
       "  max-height: 200px;\n",
       "  max-width: 100%;\n",
       "  overflow: auto;\n",
       "}\n",
       "\n",
       "#sk-container-id-4 input.sk-toggleable__control:checked~label.sk-toggleable__label-arrow:before {\n",
       "  content: \"▾\";\n",
       "}\n",
       "\n",
       "/* Pipeline/ColumnTransformer-specific style */\n",
       "\n",
       "#sk-container-id-4 div.sk-label input.sk-toggleable__control:checked~label.sk-toggleable__label {\n",
       "  color: var(--sklearn-color-text);\n",
       "  background-color: var(--sklearn-color-unfitted-level-2);\n",
       "}\n",
       "\n",
       "#sk-container-id-4 div.sk-label.fitted input.sk-toggleable__control:checked~label.sk-toggleable__label {\n",
       "  background-color: var(--sklearn-color-fitted-level-2);\n",
       "}\n",
       "\n",
       "/* Estimator-specific style */\n",
       "\n",
       "/* Colorize estimator box */\n",
       "#sk-container-id-4 div.sk-estimator input.sk-toggleable__control:checked~label.sk-toggleable__label {\n",
       "  /* unfitted */\n",
       "  background-color: var(--sklearn-color-unfitted-level-2);\n",
       "}\n",
       "\n",
       "#sk-container-id-4 div.sk-estimator.fitted input.sk-toggleable__control:checked~label.sk-toggleable__label {\n",
       "  /* fitted */\n",
       "  background-color: var(--sklearn-color-fitted-level-2);\n",
       "}\n",
       "\n",
       "#sk-container-id-4 div.sk-label label.sk-toggleable__label,\n",
       "#sk-container-id-4 div.sk-label label {\n",
       "  /* The background is the default theme color */\n",
       "  color: var(--sklearn-color-text-on-default-background);\n",
       "}\n",
       "\n",
       "/* On hover, darken the color of the background */\n",
       "#sk-container-id-4 div.sk-label:hover label.sk-toggleable__label {\n",
       "  color: var(--sklearn-color-text);\n",
       "  background-color: var(--sklearn-color-unfitted-level-2);\n",
       "}\n",
       "\n",
       "/* Label box, darken color on hover, fitted */\n",
       "#sk-container-id-4 div.sk-label.fitted:hover label.sk-toggleable__label.fitted {\n",
       "  color: var(--sklearn-color-text);\n",
       "  background-color: var(--sklearn-color-fitted-level-2);\n",
       "}\n",
       "\n",
       "/* Estimator label */\n",
       "\n",
       "#sk-container-id-4 div.sk-label label {\n",
       "  font-family: monospace;\n",
       "  font-weight: bold;\n",
       "  display: inline-block;\n",
       "  line-height: 1.2em;\n",
       "}\n",
       "\n",
       "#sk-container-id-4 div.sk-label-container {\n",
       "  text-align: center;\n",
       "}\n",
       "\n",
       "/* Estimator-specific */\n",
       "#sk-container-id-4 div.sk-estimator {\n",
       "  font-family: monospace;\n",
       "  border: 1px dotted var(--sklearn-color-border-box);\n",
       "  border-radius: 0.25em;\n",
       "  box-sizing: border-box;\n",
       "  margin-bottom: 0.5em;\n",
       "  /* unfitted */\n",
       "  background-color: var(--sklearn-color-unfitted-level-0);\n",
       "}\n",
       "\n",
       "#sk-container-id-4 div.sk-estimator.fitted {\n",
       "  /* fitted */\n",
       "  background-color: var(--sklearn-color-fitted-level-0);\n",
       "}\n",
       "\n",
       "/* on hover */\n",
       "#sk-container-id-4 div.sk-estimator:hover {\n",
       "  /* unfitted */\n",
       "  background-color: var(--sklearn-color-unfitted-level-2);\n",
       "}\n",
       "\n",
       "#sk-container-id-4 div.sk-estimator.fitted:hover {\n",
       "  /* fitted */\n",
       "  background-color: var(--sklearn-color-fitted-level-2);\n",
       "}\n",
       "\n",
       "/* Specification for estimator info (e.g. \"i\" and \"?\") */\n",
       "\n",
       "/* Common style for \"i\" and \"?\" */\n",
       "\n",
       ".sk-estimator-doc-link,\n",
       "a:link.sk-estimator-doc-link,\n",
       "a:visited.sk-estimator-doc-link {\n",
       "  float: right;\n",
       "  font-size: smaller;\n",
       "  line-height: 1em;\n",
       "  font-family: monospace;\n",
       "  background-color: var(--sklearn-color-background);\n",
       "  border-radius: 1em;\n",
       "  height: 1em;\n",
       "  width: 1em;\n",
       "  text-decoration: none !important;\n",
       "  margin-left: 1ex;\n",
       "  /* unfitted */\n",
       "  border: var(--sklearn-color-unfitted-level-1) 1pt solid;\n",
       "  color: var(--sklearn-color-unfitted-level-1);\n",
       "}\n",
       "\n",
       ".sk-estimator-doc-link.fitted,\n",
       "a:link.sk-estimator-doc-link.fitted,\n",
       "a:visited.sk-estimator-doc-link.fitted {\n",
       "  /* fitted */\n",
       "  border: var(--sklearn-color-fitted-level-1) 1pt solid;\n",
       "  color: var(--sklearn-color-fitted-level-1);\n",
       "}\n",
       "\n",
       "/* On hover */\n",
       "div.sk-estimator:hover .sk-estimator-doc-link:hover,\n",
       ".sk-estimator-doc-link:hover,\n",
       "div.sk-label-container:hover .sk-estimator-doc-link:hover,\n",
       ".sk-estimator-doc-link:hover {\n",
       "  /* unfitted */\n",
       "  background-color: var(--sklearn-color-unfitted-level-3);\n",
       "  color: var(--sklearn-color-background);\n",
       "  text-decoration: none;\n",
       "}\n",
       "\n",
       "div.sk-estimator.fitted:hover .sk-estimator-doc-link.fitted:hover,\n",
       ".sk-estimator-doc-link.fitted:hover,\n",
       "div.sk-label-container:hover .sk-estimator-doc-link.fitted:hover,\n",
       ".sk-estimator-doc-link.fitted:hover {\n",
       "  /* fitted */\n",
       "  background-color: var(--sklearn-color-fitted-level-3);\n",
       "  color: var(--sklearn-color-background);\n",
       "  text-decoration: none;\n",
       "}\n",
       "\n",
       "/* Span, style for the box shown on hovering the info icon */\n",
       ".sk-estimator-doc-link span {\n",
       "  display: none;\n",
       "  z-index: 9999;\n",
       "  position: relative;\n",
       "  font-weight: normal;\n",
       "  right: .2ex;\n",
       "  padding: .5ex;\n",
       "  margin: .5ex;\n",
       "  width: min-content;\n",
       "  min-width: 20ex;\n",
       "  max-width: 50ex;\n",
       "  color: var(--sklearn-color-text);\n",
       "  box-shadow: 2pt 2pt 4pt #999;\n",
       "  /* unfitted */\n",
       "  background: var(--sklearn-color-unfitted-level-0);\n",
       "  border: .5pt solid var(--sklearn-color-unfitted-level-3);\n",
       "}\n",
       "\n",
       ".sk-estimator-doc-link.fitted span {\n",
       "  /* fitted */\n",
       "  background: var(--sklearn-color-fitted-level-0);\n",
       "  border: var(--sklearn-color-fitted-level-3);\n",
       "}\n",
       "\n",
       ".sk-estimator-doc-link:hover span {\n",
       "  display: block;\n",
       "}\n",
       "\n",
       "/* \"?\"-specific style due to the `<a>` HTML tag */\n",
       "\n",
       "#sk-container-id-4 a.estimator_doc_link {\n",
       "  float: right;\n",
       "  font-size: 1rem;\n",
       "  line-height: 1em;\n",
       "  font-family: monospace;\n",
       "  background-color: var(--sklearn-color-background);\n",
       "  border-radius: 1rem;\n",
       "  height: 1rem;\n",
       "  width: 1rem;\n",
       "  text-decoration: none;\n",
       "  /* unfitted */\n",
       "  color: var(--sklearn-color-unfitted-level-1);\n",
       "  border: var(--sklearn-color-unfitted-level-1) 1pt solid;\n",
       "}\n",
       "\n",
       "#sk-container-id-4 a.estimator_doc_link.fitted {\n",
       "  /* fitted */\n",
       "  border: var(--sklearn-color-fitted-level-1) 1pt solid;\n",
       "  color: var(--sklearn-color-fitted-level-1);\n",
       "}\n",
       "\n",
       "/* On hover */\n",
       "#sk-container-id-4 a.estimator_doc_link:hover {\n",
       "  /* unfitted */\n",
       "  background-color: var(--sklearn-color-unfitted-level-3);\n",
       "  color: var(--sklearn-color-background);\n",
       "  text-decoration: none;\n",
       "}\n",
       "\n",
       "#sk-container-id-4 a.estimator_doc_link.fitted:hover {\n",
       "  /* fitted */\n",
       "  background-color: var(--sklearn-color-fitted-level-3);\n",
       "}\n",
       "</style><div id=\"sk-container-id-4\" class=\"sk-top-container\"><div class=\"sk-text-repr-fallback\"><pre>LogisticRegression(C=0.1, random_state=963)</pre><b>In a Jupyter environment, please rerun this cell to show the HTML representation or trust the notebook. <br />On GitHub, the HTML representation is unable to render, please try loading this page with nbviewer.org.</b></div><div class=\"sk-container\" hidden><div class=\"sk-item\"><div class=\"sk-estimator fitted sk-toggleable\"><input class=\"sk-toggleable__control sk-hidden--visually\" id=\"sk-estimator-id-4\" type=\"checkbox\" checked><label for=\"sk-estimator-id-4\" class=\"sk-toggleable__label fitted sk-toggleable__label-arrow fitted\">&nbsp;&nbsp;LogisticRegression<a class=\"sk-estimator-doc-link fitted\" rel=\"noreferrer\" target=\"_blank\" href=\"https://scikit-learn.org/1.4/modules/generated/sklearn.linear_model.LogisticRegression.html\">?<span>Documentation for LogisticRegression</span></a><span class=\"sk-estimator-doc-link fitted\">i<span>Fitted</span></span></label><div class=\"sk-toggleable__content fitted\"><pre>LogisticRegression(C=0.1, random_state=963)</pre></div> </div></div></div></div>"
      ],
      "text/plain": [
       "LogisticRegression(C=0.1, random_state=963)"
      ]
     },
     "execution_count": 87,
     "metadata": {},
     "output_type": "execute_result"
    }
   ],
   "source": [
    "# Testing Logistic Regression on the data\n",
    "model = LogisticRegression(C = 0.1, penalty = 'l2', solver = 'lbfgs', random_state = 963)\n",
    "model.fit(X_train, Y_train)"
   ]
  },
  {
   "cell_type": "code",
   "execution_count": 88,
   "metadata": {},
   "outputs": [
    {
     "name": "stdout",
     "output_type": "stream",
     "text": [
      "Accuracy: 0.5210727969348659\n"
     ]
    }
   ],
   "source": [
    "# Predicting X train and testing accuracy\n",
    "Y_valid_pred = model.predict(X_valid)\n",
    "acc_valid = accuracy_score(Y_valid, Y_valid_pred)\n",
    "print(f\"Accuracy: {acc_valid}\")\n"
   ]
  },
  {
   "cell_type": "code",
   "execution_count": 89,
   "metadata": {},
   "outputs": [
    {
     "name": "stdout",
     "output_type": "stream",
     "text": [
      "Accuracy test Logistic regression: 0.5325670498084292\n"
     ]
    }
   ],
   "source": [
    "Y_test_pred = model.predict(X_test)\n",
    "acc_test = accuracy_score(Y_test, Y_test_pred)\n",
    "print(f\"Accuracy test Logistic regression: {acc_test}\")"
   ]
  },
  {
   "cell_type": "code",
   "execution_count": 92,
   "metadata": {},
   "outputs": [
    {
     "name": "stdout",
     "output_type": "stream",
     "text": [
      "Accuracy SVM: 0.5823754789272031\n"
     ]
    }
   ],
   "source": [
    "# Testing SVM\n",
    "model2 =  svm.SVC(C = 1.0, kernel = \"rbf\", gamma = \"scale\", probability = False, random_state = 963)\n",
    "model2.fit(X_train, Y_train)\n",
    "\n",
    "Y_valid_pred_svm = model2.predict(X_valid)\n",
    "acc_valid_svm = accuracy_score(Y_valid, Y_valid_pred_svm)\n",
    "print(f\"Accuracy SVM: {acc_valid_svm}\")"
   ]
  },
  {
   "cell_type": "code",
   "execution_count": 93,
   "metadata": {},
   "outputs": [
    {
     "name": "stdout",
     "output_type": "stream",
     "text": [
      "Accuracy test SVM: 0.6091954022988506\n"
     ]
    }
   ],
   "source": [
    "Y_test_pred_svm = model2.predict(X_test)\n",
    "acc_test_svm = accuracy_score(Y_test, Y_test_pred_svm)\n",
    "print(f\"Accuracy test SVM: {acc_test_svm}\")"
   ]
  },
  {
   "cell_type": "code",
   "execution_count": 102,
   "metadata": {},
   "outputs": [
    {
     "name": "stdout",
     "output_type": "stream",
     "text": [
      "Accuracy Random Forest: 0.7126436781609196\n"
     ]
    }
   ],
   "source": [
    "# Testing Random Forest\n",
    "model3 = RandomForestClassifier(\n",
    "    n_estimators = 500,               # More trees for better learning\n",
    "    max_depth = 10,                   # Slight increase in tree depth\n",
    "    min_samples_split = 3,            # Allow splits to capture finer patterns\n",
    "    min_samples_leaf = 2,             # Prevent overfitting\n",
    "    class_weight = 'balanced',         # Handle class imbalance\n",
    "    random_state = 963\n",
    "    )\n",
    "model3.fit(X_train, Y_train)\n",
    "\n",
    "Y_valid_pred_rf = model3.predict(X_valid)\n",
    "acc_valid_rf = accuracy_score(Y_valid, Y_valid_pred_rf)\n",
    "print(f\"Accuracy Random Forest: {acc_valid_rf}\")"
   ]
  },
  {
   "cell_type": "code",
   "execution_count": 103,
   "metadata": {},
   "outputs": [
    {
     "name": "stdout",
     "output_type": "stream",
     "text": [
      "Accuracy test Random Forest: 0.7701149425287356\n"
     ]
    }
   ],
   "source": [
    "Y_test_pred_rf = model3.predict(X_test)\n",
    "acc_test_rf = accuracy_score(Y_test, Y_test_pred_rf)\n",
    "print(f\"Accuracy test Random Forest: {acc_test_rf}\")"
   ]
  },
  {
   "cell_type": "code",
   "execution_count": 98,
   "metadata": {},
   "outputs": [
    {
     "name": "stdout",
     "output_type": "stream",
     "text": [
      "Accuracy validation XGBoost: 0.7471264367816092\n",
      "Accuracy test XGBoost: 0.789272030651341\n"
     ]
    }
   ],
   "source": [
    "from xgboost import XGBClassifier\n",
    "\n",
    "model4 = XGBClassifier(\n",
    "    n_estimators=300, \n",
    "    max_depth=10, \n",
    "    learning_rate=0.05, \n",
    "    subsample=0.8, \n",
    "    colsample_bytree=0.8, \n",
    "    random_state=963\n",
    ")\n",
    "\n",
    "model4.fit(X_train, Y_train)\n",
    "\n",
    "Y_valid_pred_xgb = model4.predict(X_valid)\n",
    "acc_valid_xgb = accuracy_score(Y_valid, Y_valid_pred_xgb)\n",
    "print(f\"Accuracy validation XGBoost: {acc_valid_xgb}\")\n",
    "\n",
    "Y_test_pred_xgb = model4.predict(X_test)\n",
    "acc_test_xgb = accuracy_score(Y_test, Y_test_pred_xgb)\n",
    "print(f\"Accuracy test XGBoost: {acc_test_xgb}\")"
   ]
  },
  {
   "cell_type": "markdown",
   "metadata": {},
   "source": [
    "Therefore the best model to use here is Random Forest Classifier or XGBClassifier. Further tests can inprove accuracy of prediction."
   ]
  }
 ],
 "metadata": {
  "kernelspec": {
   "display_name": "base",
   "language": "python",
   "name": "python3"
  },
  "language_info": {
   "codemirror_mode": {
    "name": "ipython",
    "version": 3
   },
   "file_extension": ".py",
   "mimetype": "text/x-python",
   "name": "python",
   "nbconvert_exporter": "python",
   "pygments_lexer": "ipython3",
   "version": "3.12.4"
  }
 },
 "nbformat": 4,
 "nbformat_minor": 2
}
